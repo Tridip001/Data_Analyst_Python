{
 "cells": [
  {
   "cell_type": "markdown",
   "id": "0d8bd700",
   "metadata": {},
   "source": [
    "## Pandas in Python:"
   ]
  },
  {
   "cell_type": "code",
   "execution_count": 3,
   "id": "1fd5c9f6",
   "metadata": {},
   "outputs": [
    {
     "name": "stdout",
     "output_type": "stream",
     "text": [
      "2.2.3\n"
     ]
    }
   ],
   "source": [
    "import pandas as pd\n",
    "\n",
    "print(pd.__version__)\n"
   ]
  },
  {
   "cell_type": "markdown",
   "id": "5c246f20",
   "metadata": {},
   "source": [
    "## Series:\n",
    "\n",
    "-> A pandas series is like a column in a table. it ia a 1D array which holds any type of data."
   ]
  },
  {
   "cell_type": "code",
   "execution_count": 14,
   "id": "e858ce38",
   "metadata": {},
   "outputs": [
    {
     "name": "stdout",
     "output_type": "stream",
     "text": [
      "a    1\n",
      "b    2\n",
      "c    3\n",
      "d    8\n",
      "e    9\n",
      "dtype: int64\n",
      "Acessing by Index:  1\n",
      "True\n",
      "student1    90\n",
      "student2    85\n",
      "dtype: int64\n"
     ]
    }
   ],
   "source": [
    "## Panda Series:\n",
    "import pandas as pd\n",
    "\n",
    "shared = [1,2,3,8,9]\n",
    "\n",
    "s = pd.Series(shared,index=['a','b','c','d','e'])\n",
    "print(s)\n",
    "\n",
    "## Labeling - Label acn be used to access data.\n",
    "print('Acessing by Index: ',s['a'])  # Accessing by label\n",
    "\n",
    "## Making a Series from dictionary:\n",
    "\n",
    "data_dict = {'student1': 90, 'student2': 85, 'student3': 88}\n",
    "\n",
    "data_sr = pd.Series(data_dict)\n",
    "print(data_sr.all())\n",
    "\n",
    "# Now we will create a Series from a dictionary using inly data from student1 and student2:\n",
    "\n",
    "data_dict = {'student1': 90, 'student2': 85, 'student3': 88}\n",
    "\n",
    "result = pd.Series(data_dict, index=['student1', 'student2'])\n",
    "print(result)\n"
   ]
  },
  {
   "cell_type": "markdown",
   "id": "cabcf9c1",
   "metadata": {},
   "source": [
    "## DataFrams:\n",
    "\n",
    "-> Data sets in pandas are usally multidimentional table,, and they are called DataFrames."
   ]
  },
  {
   "cell_type": "code",
   "execution_count": null,
   "id": "3102b182",
   "metadata": {},
   "outputs": [],
   "source": []
  }
 ],
 "metadata": {
  "kernelspec": {
   "display_name": "Python 3",
   "language": "python",
   "name": "python3"
  },
  "language_info": {
   "codemirror_mode": {
    "name": "ipython",
    "version": 3
   },
   "file_extension": ".py",
   "mimetype": "text/x-python",
   "name": "python",
   "nbconvert_exporter": "python",
   "pygments_lexer": "ipython3",
   "version": "3.12.0"
  }
 },
 "nbformat": 4,
 "nbformat_minor": 5
}
